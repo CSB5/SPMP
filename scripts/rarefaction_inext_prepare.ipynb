{
 "cells": [
  {
   "cell_type": "code",
   "execution_count": 1,
   "id": "91e05678",
   "metadata": {},
   "outputs": [],
   "source": [
    "import pandas as pd\n",
    "import numpy as np\n",
    "import glob, os"
   ]
  },
  {
   "cell_type": "code",
   "execution_count": 2,
   "id": "9f8a35a3",
   "metadata": {},
   "outputs": [],
   "source": [
    "def save_replace_excel(fname, df, sheetname, index=False):\n",
    "    with pd.ExcelWriter(fname, mode='a') as writer:  \n",
    "        workBook = writer.book\n",
    "        try:\n",
    "            workBook.remove(workBook[sheetname])\n",
    "        except:\n",
    "            print(\"worksheet doesn't exist\")\n",
    "        finally:\n",
    "            df.to_excel(writer, sheet_name=sheetname, index=index)\n",
    "    \n",
    "excelpath = '../../../nr-source-data.xlsx'\n",
    "save_replace_excel_spmp = lambda df, sheetname, index: save_replace_excel(excelpath, df, sheetname, index)"
   ]
  },
  {
   "cell_type": "code",
   "execution_count": 3,
   "id": "3a263ef1",
   "metadata": {},
   "outputs": [
    {
     "name": "stdout",
     "output_type": "stream",
     "text": [
      "mkdir: cannot create directory ‘../tmp/iNext’: File exists\n"
     ]
    }
   ],
   "source": [
    "! mkdir ../tmp/iNext"
   ]
  },
  {
   "cell_type": "code",
   "execution_count": 4,
   "id": "d63cb6c1",
   "metadata": {},
   "outputs": [
    {
     "name": "stderr",
     "output_type": "stream",
     "text": [
      "/home/jsgounot/anaconda3/envs/graphic/lib/python3.7/site-packages/ipykernel_launcher.py:5: SettingWithCopyWarning: \n",
      "A value is trying to be set on a copy of a slice from a DataFrame.\n",
      "Try using .loc[row_indexer,col_indexer] = value instead\n",
      "\n",
      "See the caveats in the documentation: https://pandas.pydata.org/pandas-docs/stable/user_guide/indexing.html#returning-a-view-versus-a-copy\n",
      "  \"\"\"\n"
     ]
    }
   ],
   "source": [
    "fname = '../tables/bracken_self_combine_result.tsv.gz'\n",
    "df = pd.read_csv(fname, sep='\\t', compression='gzip')\n",
    "\n",
    "sdf = df[(df['abundance'] >= 0.05) & (df['rank'] == 'S')]\n",
    "sdf[\"dummy\"] = 1\n",
    "sdf = pd.pivot_table(sdf, index=\"name\", columns=\"sample\", values=\"dummy\", fill_value=0)\n",
    "\n",
    "matrix = sdf.astype(int).values\n",
    "np.savetxt(\"../tmp/iNext/bracken_self_combine_result.matrix.tsv\", matrix, delimiter=\"\\t\")"
   ]
  },
  {
   "cell_type": "code",
   "execution_count": 5,
   "id": "8958b33a",
   "metadata": {},
   "outputs": [],
   "source": [
    "save_replace_excel_spmp(sdf, 'Fig 2.A', True)"
   ]
  },
  {
   "cell_type": "code",
   "execution_count": null,
   "id": "ffa49398",
   "metadata": {},
   "outputs": [],
   "source": []
  }
 ],
 "metadata": {
  "kernelspec": {
   "display_name": "Python 3",
   "language": "python",
   "name": "python3"
  },
  "language_info": {
   "codemirror_mode": {
    "name": "ipython",
    "version": 3
   },
   "file_extension": ".py",
   "mimetype": "text/x-python",
   "name": "python",
   "nbconvert_exporter": "python",
   "pygments_lexer": "ipython3",
   "version": "3.7.9"
  }
 },
 "nbformat": 4,
 "nbformat_minor": 5
}
