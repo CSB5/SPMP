{
 "cells": [
  {
   "cell_type": "code",
   "execution_count": 1,
   "id": "622436a0",
   "metadata": {},
   "outputs": [],
   "source": [
    "import pandas as pd\n",
    "import numpy as np\n",
    "import glob, os\n",
    "\n",
    "from seahorse import Graph, SContainer\n",
    "from seahorse import constants, sns\n",
    "constants.SHOWMODE = True\n",
    "\n",
    "cpal = [\"#90ee90\", \"#6495ed\", \"#ca472f\", \"#f6c85f\", \"#6f4e7c\", \"#ffa056\", \"#558254\", \"#4ad9e1\"]\n",
    "cdef = \"#9dbcd4\"\n",
    "\n",
    "cpalLib = cpal[:3]\n",
    "cpalQual = [cpal[5], cpal[3], cpal[4]]\n",
    "\n",
    "import matplotlib as mpl\n",
    "mpl.rcParams['svg.fonttype'] = 'none' # Output SVG with text as text, not curves\n",
    "mpl.rcParams['savefig.transparent'] = True # Save w/ transparent background by default"
   ]
  },
  {
   "cell_type": "code",
   "execution_count": 2,
   "id": "a03423b5",
   "metadata": {},
   "outputs": [],
   "source": [
    "def save_replace_excel(fname, df, sheetname):\n",
    "    with pd.ExcelWriter(fname, mode='a') as writer:  \n",
    "        workBook = writer.book\n",
    "        try:\n",
    "            workBook.remove(workBook[sheetname])\n",
    "        except:\n",
    "            print(\"worksheet doesn't exist\")\n",
    "        finally:\n",
    "            df.to_excel(writer, sheet_name=sheetname, index=False)\n",
    "    \n",
    "excelpath = '../../../nr-source-data.xlsx'\n",
    "save_replace_excel_spmp = lambda df, sheetname: save_replace_excel(excelpath, df, sheetname)"
   ]
  },
  {
   "cell_type": "markdown",
   "id": "894d61b4",
   "metadata": {},
   "source": [
    "## Supplementary Figure 8.B"
   ]
  },
  {
   "cell_type": "code",
   "execution_count": 3,
   "id": "1cc6ef3f",
   "metadata": {},
   "outputs": [
    {
     "data": {
      "text/html": [
       "<div>\n",
       "<style scoped>\n",
       "    .dataframe tbody tr th:only-of-type {\n",
       "        vertical-align: middle;\n",
       "    }\n",
       "\n",
       "    .dataframe tbody tr th {\n",
       "        vertical-align: top;\n",
       "    }\n",
       "\n",
       "    .dataframe thead th {\n",
       "        text-align: right;\n",
       "    }\n",
       "</style>\n",
       "<table border=\"1\" class=\"dataframe\">\n",
       "  <thead>\n",
       "    <tr style=\"text-align: right;\">\n",
       "      <th></th>\n",
       "      <th>sample</th>\n",
       "      <th>group</th>\n",
       "      <th>count</th>\n",
       "      <th>readcount</th>\n",
       "      <th>prc</th>\n",
       "    </tr>\n",
       "  </thead>\n",
       "  <tbody>\n",
       "    <tr>\n",
       "      <th>0</th>\n",
       "      <td>MHH353</td>\n",
       "      <td>SPMP</td>\n",
       "      <td>14351270</td>\n",
       "      <td>17279633</td>\n",
       "      <td>83.053095</td>\n",
       "    </tr>\n",
       "    <tr>\n",
       "      <th>1</th>\n",
       "      <td>MHH264</td>\n",
       "      <td>SPMP</td>\n",
       "      <td>14093219</td>\n",
       "      <td>16066095</td>\n",
       "      <td>87.720252</td>\n",
       "    </tr>\n",
       "    <tr>\n",
       "      <th>2</th>\n",
       "      <td>MHH621</td>\n",
       "      <td>SPMP</td>\n",
       "      <td>14421610</td>\n",
       "      <td>18701009</td>\n",
       "      <td>77.116748</td>\n",
       "    </tr>\n",
       "    <tr>\n",
       "      <th>3</th>\n",
       "      <td>MHH343</td>\n",
       "      <td>SPMP</td>\n",
       "      <td>19490810</td>\n",
       "      <td>23290179</td>\n",
       "      <td>83.686819</td>\n",
       "    </tr>\n",
       "    <tr>\n",
       "      <th>4</th>\n",
       "      <td>MHH366</td>\n",
       "      <td>SPMP</td>\n",
       "      <td>18004770</td>\n",
       "      <td>20599699</td>\n",
       "      <td>87.403073</td>\n",
       "    </tr>\n",
       "  </tbody>\n",
       "</table>\n",
       "</div>"
      ],
      "text/plain": [
       "   sample group     count  readcount        prc\n",
       "0  MHH353  SPMP  14351270   17279633  83.053095\n",
       "1  MHH264  SPMP  14093219   16066095  87.720252\n",
       "2  MHH621  SPMP  14421610   18701009  77.116748\n",
       "3  MHH343  SPMP  19490810   23290179  83.686819\n",
       "4  MHH366  SPMP  18004770   20599699  87.403073"
      ]
     },
     "execution_count": 3,
     "metadata": {},
     "output_type": "execute_result"
    }
   ],
   "source": [
    "fname = '../tables/strains_mapping.tsv'\n",
    "df = pd.read_csv(fname, sep='\\t', index_col=0)\n",
    "df['prc'] = df['count'] * 100 / df['readcount']\n",
    "df.head()"
   ]
  },
  {
   "cell_type": "code",
   "execution_count": 4,
   "id": "90abb37e",
   "metadata": {},
   "outputs": [
    {
     "data": {
      "image/png": "[encoded data removed]",
      "text/plain": [
       "<Figure size 216x288 with 1 Axes>"
      ]
     },
     "metadata": {
      "needs_background": "light"
     },
     "output_type": "display_data"
    }
   ],
   "source": [
    "graph = Graph(df)\n",
    "graph.sns.boxplot(x='group', y='prc', palette=cpal)\n",
    "graph.ax.set_xlabel('')\n",
    "graph.ax.set_ylabel('% reads mapped')\n",
    "\n",
    "graph.set_size_inches(3, 4)\n",
    "graph.tight_layout()\n",
    "graph.save('../img/sf8.B.svg')"
   ]
  },
  {
   "cell_type": "code",
   "execution_count": 5,
   "id": "b0195a8c",
   "metadata": {},
   "outputs": [],
   "source": [
    "save_replace_excel_spmp(df, 'SFig 8.B')"
   ]
  },
  {
   "cell_type": "code",
   "execution_count": null,
   "id": "a1f87487",
   "metadata": {},
   "outputs": [],
   "source": []
  }
 ],
 "metadata": {
  "kernelspec": {
   "display_name": "Python 3",
   "language": "python",
   "name": "python3"
  },
  "language_info": {
   "codemirror_mode": {
    "name": "ipython",
    "version": 3
   },
   "file_extension": ".py",
   "mimetype": "text/x-python",
   "name": "python",
   "nbconvert_exporter": "python",
   "pygments_lexer": "ipython3",
   "version": "3.7.9"
  }
 },
 "nbformat": 4,
 "nbformat_minor": 5
}
