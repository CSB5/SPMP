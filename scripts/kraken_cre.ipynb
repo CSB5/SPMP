{
 "cells": [
  {
   "cell_type": "code",
   "execution_count": 1,
   "id": "3ba659ab",
   "metadata": {},
   "outputs": [],
   "source": [
    "import pandas as pd\n",
    "import numpy as np\n",
    "import glob, os\n",
    "\n",
    "from seahorse import Graph, SContainer\n",
    "from seahorse import constants\n",
    "constants.SHOWMODE = True\n",
    "\n",
    "cpal = [\"#90ee90\", \"#6495ed\", \"#ca472f\", \"#f6c85f\", \"#6f4e7c\", \"#ffa056\", \"#558254\", \"#4ad9e1\"]\n",
    "cdef = \"#9dbcd4\"\n",
    "\n",
    "cpalLib = cpal[:3]\n",
    "cpalQual = [cpal[5], cpal[3], cpal[4]]\n",
    "\n",
    "import matplotlib as mpl\n",
    "mpl.rcParams['svg.fonttype'] = 'none' # Output SVG with text as text, not curves\n",
    "mpl.rcParams['savefig.transparent'] = True # Save w/ transparent background by default"
   ]
  },
  {
   "cell_type": "code",
   "execution_count": 2,
   "id": "f56e5cfc",
   "metadata": {},
   "outputs": [],
   "source": [
    "def save_replace_excel(fname, df, sheetname):\n",
    "    with pd.ExcelWriter(fname, mode='a') as writer:  \n",
    "        workBook = writer.book\n",
    "        try:\n",
    "            workBook.remove(workBook[sheetname])\n",
    "        except:\n",
    "            print(\"worksheet doesn't exist\")\n",
    "        finally:\n",
    "            df.to_excel(writer, sheet_name=sheetname, index=False)\n",
    "    \n",
    "excelpath = '../../../nr-source-data.xlsx'\n",
    "save_replace_excel_spmp = lambda df, sheetname: save_replace_excel(excelpath, df, sheetname)"
   ]
  },
  {
   "cell_type": "markdown",
   "id": "406f3e2b",
   "metadata": {},
   "source": [
    "## Supplemental figure 8.A"
   ]
  },
  {
   "cell_type": "code",
   "execution_count": 3,
   "id": "71f1a762",
   "metadata": {},
   "outputs": [
    {
     "data": {
      "text/html": [
       "<div>\n",
       "<style scoped>\n",
       "    .dataframe tbody tr th:only-of-type {\n",
       "        vertical-align: middle;\n",
       "    }\n",
       "\n",
       "    .dataframe tbody tr th {\n",
       "        vertical-align: top;\n",
       "    }\n",
       "\n",
       "    .dataframe thead th {\n",
       "        text-align: right;\n",
       "    }\n",
       "</style>\n",
       "<table border=\"1\" class=\"dataframe\">\n",
       "  <thead>\n",
       "    <tr style=\"text-align: right;\">\n",
       "      <th></th>\n",
       "      <th>Subject</th>\n",
       "      <th>Database</th>\n",
       "      <th>Classified</th>\n",
       "    </tr>\n",
       "  </thead>\n",
       "  <tbody>\n",
       "    <tr>\n",
       "      <th>288</th>\n",
       "      <td>fam1664-F1-V01</td>\n",
       "      <td>Kraken standard</td>\n",
       "      <td>77.00</td>\n",
       "    </tr>\n",
       "    <tr>\n",
       "      <th>289</th>\n",
       "      <td>fam0504-F1-V06</td>\n",
       "      <td>Kraken standard</td>\n",
       "      <td>70.57</td>\n",
       "    </tr>\n",
       "    <tr>\n",
       "      <th>290</th>\n",
       "      <td>fam0525-F1-V07</td>\n",
       "      <td>Kraken standard</td>\n",
       "      <td>62.53</td>\n",
       "    </tr>\n",
       "    <tr>\n",
       "      <th>291</th>\n",
       "      <td>fam0509-F2-V05</td>\n",
       "      <td>Kraken standard</td>\n",
       "      <td>52.98</td>\n",
       "    </tr>\n",
       "    <tr>\n",
       "      <th>292</th>\n",
       "      <td>fam0511-F2-V08</td>\n",
       "      <td>Kraken standard</td>\n",
       "      <td>69.95</td>\n",
       "    </tr>\n",
       "  </tbody>\n",
       "</table>\n",
       "</div>"
      ],
      "text/plain": [
       "            Subject         Database  Classified\n",
       "288  fam1664-F1-V01  Kraken standard       77.00\n",
       "289  fam0504-F1-V06  Kraken standard       70.57\n",
       "290  fam0525-F1-V07  Kraken standard       62.53\n",
       "291  fam0509-F2-V05  Kraken standard       52.98\n",
       "292  fam0511-F2-V08  Kraken standard       69.95"
      ]
     },
     "execution_count": 3,
     "metadata": {},
     "output_type": "execute_result"
    }
   ],
   "source": [
    "fname = '../tables/cre_classified.tsv'\n",
    "df = pd.read_csv(fname, sep='\\t', index_col=0)\n",
    "df.head()"
   ]
  },
  {
   "cell_type": "code",
   "execution_count": 4,
   "id": "02468ca7",
   "metadata": {},
   "outputs": [
    {
     "data": {
      "image/png": "[encoded data removed]",
      "text/plain": [
       "<Figure size 360x288 with 3 Axes>"
      ]
     },
     "metadata": {
      "needs_background": "light"
     },
     "output_type": "display_data"
    }
   ],
   "source": [
    "left = df[df[\"Database\"].isin((\"SPMP\", \"UHGG\"))].sort_values('Database')\n",
    "right = df[df[\"Database\"].isin((\"Kraken standard\",))]\n",
    "\n",
    "sc = SContainer(None, 1, 5)\n",
    "\n",
    "graph = sc.graph((0, slice(0, 2)), right)\n",
    "graph.sns.boxplot(x=\"Database\", y=\"Classified\", palette=cpal[3:])\n",
    "graph.ax.set_xlabel('')\n",
    "graph.ax.set_ylabel('Relative abundance')\n",
    "\n",
    "graph = sc.graph((0, slice(2, 5)), left)\n",
    "graph.sns.boxplot(x=\"Database\", y=\"Classified\", palette=cpal)\n",
    "graph.ax.set_xlabel('')\n",
    "graph.ax.set_ylabel('')\n",
    "\n",
    "sc.apply().ax.set_xlabel(\"\")\n",
    "sc.apply().apply_xticklabels(size=10, rotation=0)\n",
    "\n",
    "sc.fig.set_size_inches(5, 4)\n",
    "sc.tight_layout()\n",
    "sc.save('../img/sf8.A.svg')"
   ]
  },
  {
   "cell_type": "code",
   "execution_count": 5,
   "id": "ef085ec5",
   "metadata": {},
   "outputs": [],
   "source": [
    "save_replace_excel_spmp(df, 'SFig 8.A')"
   ]
  },
  {
   "cell_type": "code",
   "execution_count": null,
   "id": "2ad5f439",
   "metadata": {},
   "outputs": [],
   "source": []
  }
 ],
 "metadata": {
  "kernelspec": {
   "display_name": "Python 3",
   "language": "python",
   "name": "python3"
  },
  "language_info": {
   "codemirror_mode": {
    "name": "ipython",
    "version": 3
   },
   "file_extension": ".py",
   "mimetype": "text/x-python",
   "name": "python",
   "nbconvert_exporter": "python",
   "pygments_lexer": "ipython3",
   "version": "3.7.9"
  }
 },
 "nbformat": 4,
 "nbformat_minor": 5
}
